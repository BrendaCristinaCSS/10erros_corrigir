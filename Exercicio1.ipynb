{
  "nbformat": 4,
  "nbformat_minor": 0,
  "metadata": {
    "colab": {
      "provenance": [],
      "authorship_tag": "ABX9TyM00RvJ5X7S9sxQjpcHCXY+",
      "include_colab_link": true
    },
    "kernelspec": {
      "name": "python3",
      "display_name": "Python 3"
    },
    "language_info": {
      "name": "python"
    }
  },
  "cells": [
    {
      "cell_type": "markdown",
      "metadata": {
        "id": "view-in-github",
        "colab_type": "text"
      },
      "source": [
        "<a href=\"https://colab.research.google.com/github/BrendaCristinaCSS/10erros_corrigir/blob/main/Exercicio1.ipynb\" target=\"_parent\"><img src=\"https://colab.research.google.com/assets/colab-badge.svg\" alt=\"Open In Colab\"/></a>"
      ]
    },
    {
      "cell_type": "code",
      "source": [
        "# Exercício 1:\n",
        "# Escreva um programa em Python que cria uma lista de números inteiros e exiba todos os\n",
        "# números pares dessa lista.\n",
        "\n",
        "lista = [1, 2, 3, 4, 5, 6, 7, 8, 9, 10]\n",
        "for num in lista:\n",
        "    if num % 2 == 0:\n",
        "        print(num)"
      ],
      "metadata": {
        "id": "Mfw8PzdY17LX",
        "colab": {
          "base_uri": "https://localhost:8080/"
        },
        "outputId": "7888e228-fa5e-4571-a347-2f0daccdece9"
      },
      "execution_count": 2,
      "outputs": [
        {
          "output_type": "stream",
          "name": "stdout",
          "text": [
            "2\n",
            "4\n",
            "6\n",
            "8\n",
            "10\n"
          ]
        }
      ]
    },
    {
      "cell_type": "code",
      "source": [
        "lista1 = [4, 3, 2, 5, 7, 6, 8]\n",
        "lista2 = []\n",
        "for valor in lista1:\n",
        "    if valor % 2 == 0:\n",
        "        lista2.append(valor)\n",
        "\n",
        "print(lista2)"
      ],
      "metadata": {
        "colab": {
          "base_uri": "https://localhost:8080/"
        },
        "id": "Lvtwpyd6MOG5",
        "outputId": "440a4f16-2418-4603-ca05-cf2d708be2bb"
      },
      "execution_count": 3,
      "outputs": [
        {
          "output_type": "stream",
          "name": "stdout",
          "text": [
            "[4, 2, 6, 8]\n"
          ]
        }
      ]
    }
  ]
}